{
 "cells": [
  {
   "cell_type": "markdown",
   "metadata": {},
   "source": [
    "# 0. Dependency & Helper Fn"
   ]
  },
  {
   "cell_type": "code",
   "execution_count": 82,
   "metadata": {},
   "outputs": [],
   "source": [
    "import sys\n",
    "sys.path.append('../data/') # TODO: it does not work\n",
    "\n",
    "import subprocess\n",
    "import os\n",
    "from IPython.display import Video, VimeoVideo\n",
    "import pandas as pd\n",
    "import numpy as np\n",
    "import time"
   ]
  },
  {
   "cell_type": "code",
   "execution_count": 92,
   "metadata": {},
   "outputs": [],
   "source": [
    "def play_video(avi_path, width=512, height=512):\n",
    "    assert avi_path.split('.')[-1] == 'avi', \"The input file {} is not avi extension\".format(avi_path)\n",
    "    assert os.path.exists(avi_path), \"{} does not exists\".format(avi_path)\n",
    "    \n",
    "    mp4_path = avi_path.replace('.avi', '.mp4')\n",
    "    cmds = ['ffmpeg', '-i', avi_path, mp4_path] \n",
    "    subprocess.Popen(cmds) # this line creates .mp4 file in the same directory\n",
    "    \n",
    "    time.sleep(0.5)\n",
    "    \n",
    "    video = Video(mp4_path, width=width, height=height, embed=True)\n",
    "    \n",
    "    return video"
   ]
  },
  {
   "cell_type": "code",
   "execution_count": 63,
   "metadata": {},
   "outputs": [],
   "source": [
    "def get_sample(df, label, size=30, seed=123):\n",
    "    np.random.seed(seed)\n",
    "    df = df[df.label_idx == label]\n",
    "    video_list = np.random.choice(df.M, size, False)\n",
    "    \n",
    "    return video_list"
   ]
  },
  {
   "cell_type": "markdown",
   "metadata": {},
   "source": [
    "# 1. Test Run"
   ]
  },
  {
   "cell_type": "code",
   "execution_count": 41,
   "metadata": {},
   "outputs": [],
   "source": [
    "df = pd.read_csv('../data/top50_videos_w_descriptors.csv')"
   ]
  },
  {
   "cell_type": "code",
   "execution_count": 191,
   "metadata": {},
   "outputs": [
    {
     "data": {
      "text/plain": [
       "array(['../data/IsoGD_phase_1/train/089/M_17632.avi',\n",
       "       '../data/IsoGD_phase_1/train/029/M_05712.avi',\n",
       "       '../data/IsoGD_phase_1/train/006/M_01149.avi',\n",
       "       '../data/IsoGD_phase_1/train/063/M_12557.avi',\n",
       "       '../data/IsoGD_phase_1/train/024/M_04790.avi',\n",
       "       '../data/IsoGD_phase_1/train/126/M_25052.avi',\n",
       "       '../data/IsoGD_phase_1/train/156/M_31167.avi',\n",
       "       '../data/IsoGD_phase_1/train/079/M_15729.avi',\n",
       "       '../data/IsoGD_phase_1/train/103/M_20588.avi',\n",
       "       '../data/IsoGD_phase_1/train/109/M_21676.avi',\n",
       "       '../data/IsoGD_phase_1/train/142/M_28219.avi',\n",
       "       '../data/IsoGD_phase_1/train/162/M_32201.avi',\n",
       "       '../data/IsoGD_phase_1/train/160/M_31916.avi',\n",
       "       '../data/IsoGD_phase_1/train/006/M_01021.avi',\n",
       "       '../data/IsoGD_phase_1/train/090/M_17853.avi',\n",
       "       '../data/IsoGD_phase_1/train/157/M_31346.avi',\n",
       "       '../data/IsoGD_phase_1/train/020/M_03979.avi',\n",
       "       '../data/IsoGD_phase_1/train/052/M_10375.avi',\n",
       "       '../data/IsoGD_phase_1/train/134/M_26743.avi',\n",
       "       '../data/IsoGD_phase_1/train/119/M_23690.avi',\n",
       "       '../data/IsoGD_phase_1/train/033/M_06410.avi',\n",
       "       '../data/IsoGD_phase_1/train/125/M_24933.avi',\n",
       "       '../data/IsoGD_phase_1/train/096/M_19066.avi',\n",
       "       '../data/IsoGD_phase_1/train/052/M_10213.avi',\n",
       "       '../data/IsoGD_phase_1/train/147/M_29297.avi',\n",
       "       '../data/IsoGD_phase_1/train/072/M_14259.avi',\n",
       "       '../data/IsoGD_phase_1/train/176/M_35178.avi',\n",
       "       '../data/IsoGD_phase_1/train/012/M_02204.avi',\n",
       "       '../data/IsoGD_phase_1/train/036/M_07027.avi',\n",
       "       '../data/IsoGD_phase_1/train/047/M_09204.avi'], dtype=object)"
      ]
     },
     "execution_count": 191,
     "metadata": {},
     "output_type": "execute_result"
    }
   ],
   "source": [
    "sample_list = get_sample(df, 10)\n",
    "sample_list = np.apply_along_axis(\\\n",
    "                lambda x: '../data/IsoGD_phase_1/'+x, 0, sample_list\n",
    "                )\n",
    "\n",
    "sample_list"
   ]
  },
  {
   "cell_type": "code",
   "execution_count": 190,
   "metadata": {},
   "outputs": [
    {
     "ename": "IndexError",
     "evalue": "index 30 is out of bounds for axis 0 with size 30",
     "output_type": "error",
     "traceback": [
      "\u001b[0;31m---------------------------------------------------------------------------\u001b[0m",
      "\u001b[0;31mIndexError\u001b[0m                                Traceback (most recent call last)",
      "\u001b[0;32m<ipython-input-190-dca9e0b4a084>\u001b[0m in \u001b[0;36m<module>\u001b[0;34m\u001b[0m\n\u001b[1;32m      1\u001b[0m \u001b[0midx\u001b[0m \u001b[0;34m=\u001b[0m \u001b[0;36m30\u001b[0m\u001b[0;34m\u001b[0m\u001b[0m\n\u001b[0;32m----> 2\u001b[0;31m \u001b[0mprint\u001b[0m\u001b[0;34m(\u001b[0m\u001b[0;34m\"File Name:\"\u001b[0m\u001b[0;34m,\u001b[0m \u001b[0msample_list\u001b[0m\u001b[0;34m[\u001b[0m\u001b[0midx\u001b[0m\u001b[0;34m]\u001b[0m\u001b[0;34m)\u001b[0m\u001b[0;34m\u001b[0m\u001b[0m\n\u001b[0m\u001b[1;32m      3\u001b[0m \u001b[0;34m\u001b[0m\u001b[0m\n\u001b[1;32m      4\u001b[0m \u001b[0mplay_video\u001b[0m\u001b[0;34m(\u001b[0m\u001b[0msample_list\u001b[0m\u001b[0;34m[\u001b[0m\u001b[0midx\u001b[0m\u001b[0;34m]\u001b[0m\u001b[0;34m)\u001b[0m\u001b[0;34m\u001b[0m\u001b[0m\n",
      "\u001b[0;31mIndexError\u001b[0m: index 30 is out of bounds for axis 0 with size 30"
     ]
    }
   ],
   "source": [
    "idx = 30\n",
    "print(\"File Name:\", sample_list[idx])\n",
    "\n",
    "play_video(sample_list[idx])"
   ]
  },
  {
   "cell_type": "code",
   "execution_count": 32,
   "metadata": {},
   "outputs": [
    {
     "name": "stdout",
     "output_type": "stream",
     "text": [
      "\u001b[34m001\u001b[m\u001b[m \u001b[34m005\u001b[m\u001b[m \u001b[34m009\u001b[m\u001b[m \u001b[34m013\u001b[m\u001b[m \u001b[34m017\u001b[m\u001b[m \u001b[34m021\u001b[m\u001b[m \u001b[34m025\u001b[m\u001b[m \u001b[34m029\u001b[m\u001b[m \u001b[34m033\u001b[m\u001b[m \u001b[34m037\u001b[m\u001b[m \u001b[34m041\u001b[m\u001b[m \u001b[34m045\u001b[m\u001b[m \u001b[34m049\u001b[m\u001b[m \u001b[34m053\u001b[m\u001b[m \u001b[34m163\u001b[m\u001b[m \u001b[34m167\u001b[m\u001b[m \u001b[34m171\u001b[m\u001b[m \u001b[34m175\u001b[m\u001b[m \u001b[34m179\u001b[m\u001b[m\r\n",
      "\u001b[34m002\u001b[m\u001b[m \u001b[34m006\u001b[m\u001b[m \u001b[34m010\u001b[m\u001b[m \u001b[34m014\u001b[m\u001b[m \u001b[34m018\u001b[m\u001b[m \u001b[34m022\u001b[m\u001b[m \u001b[34m026\u001b[m\u001b[m \u001b[34m030\u001b[m\u001b[m \u001b[34m034\u001b[m\u001b[m \u001b[34m038\u001b[m\u001b[m \u001b[34m042\u001b[m\u001b[m \u001b[34m046\u001b[m\u001b[m \u001b[34m050\u001b[m\u001b[m \u001b[34m054\u001b[m\u001b[m \u001b[34m164\u001b[m\u001b[m \u001b[34m168\u001b[m\u001b[m \u001b[34m172\u001b[m\u001b[m \u001b[34m176\u001b[m\u001b[m \u001b[34m180\u001b[m\u001b[m\r\n",
      "\u001b[34m003\u001b[m\u001b[m \u001b[34m007\u001b[m\u001b[m \u001b[34m011\u001b[m\u001b[m \u001b[34m015\u001b[m\u001b[m \u001b[34m019\u001b[m\u001b[m \u001b[34m023\u001b[m\u001b[m \u001b[34m027\u001b[m\u001b[m \u001b[34m031\u001b[m\u001b[m \u001b[34m035\u001b[m\u001b[m \u001b[34m039\u001b[m\u001b[m \u001b[34m043\u001b[m\u001b[m \u001b[34m047\u001b[m\u001b[m \u001b[34m051\u001b[m\u001b[m \u001b[34m055\u001b[m\u001b[m \u001b[34m165\u001b[m\u001b[m \u001b[34m169\u001b[m\u001b[m \u001b[34m173\u001b[m\u001b[m \u001b[34m177\u001b[m\u001b[m\r\n",
      "\u001b[34m004\u001b[m\u001b[m \u001b[34m008\u001b[m\u001b[m \u001b[34m012\u001b[m\u001b[m \u001b[34m016\u001b[m\u001b[m \u001b[34m020\u001b[m\u001b[m \u001b[34m024\u001b[m\u001b[m \u001b[34m028\u001b[m\u001b[m \u001b[34m032\u001b[m\u001b[m \u001b[34m036\u001b[m\u001b[m \u001b[34m040\u001b[m\u001b[m \u001b[34m044\u001b[m\u001b[m \u001b[34m048\u001b[m\u001b[m \u001b[34m052\u001b[m\u001b[m \u001b[34m154\u001b[m\u001b[m \u001b[34m166\u001b[m\u001b[m \u001b[34m170\u001b[m\u001b[m \u001b[34m174\u001b[m\u001b[m \u001b[34m178\u001b[m\u001b[m\r\n"
     ]
    }
   ],
   "source": [
    "!ls ../data/IsoGD_phase_1/train/"
   ]
  }
 ],
 "metadata": {
  "kernelspec": {
   "display_name": "ie590_one_shot",
   "language": "python",
   "name": "ie590_one_shot"
  },
  "language_info": {
   "codemirror_mode": {
    "name": "ipython",
    "version": 3
   },
   "file_extension": ".py",
   "mimetype": "text/x-python",
   "name": "python",
   "nbconvert_exporter": "python",
   "pygments_lexer": "ipython3",
   "version": "3.6.5"
  }
 },
 "nbformat": 4,
 "nbformat_minor": 2
}
