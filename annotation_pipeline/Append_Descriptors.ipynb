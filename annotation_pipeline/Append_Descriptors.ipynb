{
 "cells": [
  {
   "cell_type": "code",
<<<<<<< Updated upstream
   "execution_count": 115,
=======
<<<<<<< Updated upstream
   "execution_count": 76,
=======
   "execution_count": 132,
>>>>>>> Stashed changes
>>>>>>> Stashed changes
   "metadata": {},
   "outputs": [],
   "source": [
    "import pandas as pd\n",
    "df = pd.read_csv('train.txt', sep=' ', header=0)"
   ]
  },
  {
   "cell_type": "code",
<<<<<<< Updated upstream
   "execution_count": 116,
=======
<<<<<<< Updated upstream
   "execution_count": 77,
=======
   "execution_count": 133,
>>>>>>> Stashed changes
>>>>>>> Stashed changes
   "metadata": {},
   "outputs": [
    {
     "data": {
      "text/html": [
       "<div>\n",
       "<style scoped>\n",
       "    .dataframe tbody tr th:only-of-type {\n",
       "        vertical-align: middle;\n",
       "    }\n",
       "\n",
       "    .dataframe tbody tr th {\n",
       "        vertical-align: top;\n",
       "    }\n",
       "\n",
       "    .dataframe thead th {\n",
       "        text-align: right;\n",
       "    }\n",
       "</style>\n",
       "<table border=\"1\" class=\"dataframe\">\n",
       "  <thead>\n",
       "    <tr style=\"text-align: right;\">\n",
       "      <th></th>\n",
       "      <th>M</th>\n",
       "      <th>K</th>\n",
       "      <th>Label</th>\n",
       "    </tr>\n",
       "  </thead>\n",
       "  <tbody>\n",
       "    <tr>\n",
       "      <th>0</th>\n",
       "      <td>train/001/M_00001.avi</td>\n",
       "      <td>train/001/K_00001.avi</td>\n",
       "      <td>26</td>\n",
       "    </tr>\n",
       "    <tr>\n",
       "      <th>1</th>\n",
       "      <td>train/001/M_00002.avi</td>\n",
       "      <td>train/001/K_00002.avi</td>\n",
       "      <td>19</td>\n",
       "    </tr>\n",
       "    <tr>\n",
       "      <th>2</th>\n",
       "      <td>train/001/M_00003.avi</td>\n",
       "      <td>train/001/K_00003.avi</td>\n",
       "      <td>20</td>\n",
       "    </tr>\n",
       "    <tr>\n",
       "      <th>3</th>\n",
       "      <td>train/001/M_00004.avi</td>\n",
       "      <td>train/001/K_00004.avi</td>\n",
       "      <td>135</td>\n",
       "    </tr>\n",
       "    <tr>\n",
       "      <th>4</th>\n",
       "      <td>train/001/M_00005.avi</td>\n",
       "      <td>train/001/K_00005.avi</td>\n",
       "      <td>152</td>\n",
       "    </tr>\n",
       "  </tbody>\n",
       "</table>\n",
       "</div>"
      ],
      "text/plain": [
       "                       M                      K  Label\n",
       "0  train/001/M_00001.avi  train/001/K_00001.avi     26\n",
       "1  train/001/M_00002.avi  train/001/K_00002.avi     19\n",
       "2  train/001/M_00003.avi  train/001/K_00003.avi     20\n",
       "3  train/001/M_00004.avi  train/001/K_00004.avi    135\n",
       "4  train/001/M_00005.avi  train/001/K_00005.avi    152"
      ]
     },
<<<<<<< Updated upstream
     "execution_count": 116,
=======
<<<<<<< Updated upstream
     "execution_count": 77,
=======
     "execution_count": 133,
>>>>>>> Stashed changes
>>>>>>> Stashed changes
     "metadata": {},
     "output_type": "execute_result"
    }
   ],
   "source": [
    "df.head()"
   ]
  },
  {
   "cell_type": "code",
   "execution_count": 78,
   "metadata": {},
   "outputs": [],
   "source": [
    "df_k = df[['K', 'Label']]\n",
    "df_m = df[['M', 'Label']]\n",
    "df_m = df_m.rename(columns={\"M\": \"file\"})\n",
    "df_k = df_k.rename(columns={\"K\": \"file\"})"
   ]
  },
  {
   "cell_type": "code",
   "execution_count": 79,
   "metadata": {},
   "outputs": [],
   "source": [
    "df = df_k.append(df_m)"
   ]
  },
  {
   "cell_type": "code",
<<<<<<< Updated upstream
   "execution_count": 117,
=======
<<<<<<< Updated upstream
   "execution_count": 97,
=======
   "execution_count": 134,
>>>>>>> Stashed changes
>>>>>>> Stashed changes
   "metadata": {},
   "outputs": [],
   "source": [
    "annotations_df = pd.read_json('annotated_kaushik_mean.json')"
   ]
  },
  {
   "cell_type": "code",
<<<<<<< Updated upstream
   "execution_count": 130,
=======
<<<<<<< Updated upstream
   "execution_count": 107,
=======
   "execution_count": 141,
>>>>>>> Stashed changes
>>>>>>> Stashed changes
   "metadata": {},
   "outputs": [
    {
     "data": {
      "text/html": [
       "<div>\n",
       "<style scoped>\n",
       "    .dataframe tbody tr th:only-of-type {\n",
       "        vertical-align: middle;\n",
       "    }\n",
       "\n",
       "    .dataframe tbody tr th {\n",
       "        vertical-align: top;\n",
       "    }\n",
       "\n",
       "    .dataframe thead th {\n",
       "        text-align: right;\n",
       "    }\n",
       "</style>\n",
       "<table border=\"1\" class=\"dataframe\">\n",
       "  <thead>\n",
       "    <tr style=\"text-align: right;\">\n",
       "      <th></th>\n",
       "      <th>M</th>\n",
       "      <th>K</th>\n",
       "      <th>Label</th>\n",
       "      <th>Both_Hands</th>\n",
       "      <th>F_Index</th>\n",
       "      <th>F_Middle</th>\n",
       "      <th>F_Pinky</th>\n",
       "      <th>F_Ring</th>\n",
       "      <th>F_Thumb</th>\n",
       "      <th>M_Back</th>\n",
       "      <th>...</th>\n",
       "      <th>M_In</th>\n",
       "      <th>M_Iterative</th>\n",
       "      <th>M_Out</th>\n",
       "      <th>M_Up</th>\n",
       "      <th>O_Back</th>\n",
       "      <th>O_Down</th>\n",
       "      <th>O_Front</th>\n",
       "      <th>O_In</th>\n",
       "      <th>O_Out</th>\n",
       "      <th>O_Up</th>\n",
       "    </tr>\n",
       "  </thead>\n",
       "  <tbody>\n",
       "    <tr>\n",
       "      <th>0</th>\n",
<<<<<<< Updated upstream
       "      <td>train/001/M_00002.avi</td>\n",
       "      <td>NaN</td>\n",
       "      <td>19</td>\n",
       "      <td>0</td>\n",
       "      <td>0</td>\n",
       "      <td>1</td>\n",
       "      <td>1</td>\n",
       "      <td>1</td>\n",
       "      <td>0</td>\n",
       "      <td>0</td>\n",
       "      <td>...</td>\n",
       "      <td>0</td>\n",
       "      <td>0</td>\n",
       "      <td>1</td>\n",
       "      <td>1</td>\n",
       "      <td>0</td>\n",
       "      <td>0</td>\n",
       "      <td>1</td>\n",
       "      <td>0</td>\n",
       "      <td>0</td>\n",
=======
<<<<<<< Updated upstream
       "      <td>1.0</td>\n",
       "      <td>1.0</td>\n",
       "      <td>0.0</td>\n",
       "      <td>0.0</td>\n",
       "      <td>0.0</td>\n",
       "      <td>0.0</td>\n",
       "      <td>0.0</td>\n",
       "      <td>0.0</td>\n",
       "      <td>0.4</td>\n",
       "      <td>0.0</td>\n",
       "      <td>0.0</td>\n",
       "      <td>0.0</td>\n",
       "      <td>1.0</td>\n",
       "      <td>0.6</td>\n",
       "      <td>1.0</td>\n",
       "      <td>0.0</td>\n",
       "      <td>0.0</td>\n",
       "      <td>0.0</td>\n",
>>>>>>> Stashed changes
       "      <td>0.0</td>\n",
       "    </tr>\n",
       "    <tr>\n",
       "      <th>1</th>\n",
       "      <td>train/001/M_00104.avi</td>\n",
       "      <td>NaN</td>\n",
       "      <td>19</td>\n",
       "      <td>0</td>\n",
       "      <td>0</td>\n",
       "      <td>1</td>\n",
       "      <td>1</td>\n",
       "      <td>1</td>\n",
       "      <td>0</td>\n",
       "      <td>0</td>\n",
       "      <td>...</td>\n",
       "      <td>0</td>\n",
       "      <td>0</td>\n",
       "      <td>1</td>\n",
       "      <td>1</td>\n",
       "      <td>0</td>\n",
       "      <td>0</td>\n",
       "      <td>1</td>\n",
       "      <td>0</td>\n",
       "      <td>0</td>\n",
       "      <td>0.0</td>\n",
       "    </tr>\n",
       "    <tr>\n",
       "      <th>2</th>\n",
       "      <td>train/002/M_00201.avi</td>\n",
       "      <td>NaN</td>\n",
       "      <td>19</td>\n",
       "      <td>0</td>\n",
       "      <td>0</td>\n",
       "      <td>1</td>\n",
       "      <td>1</td>\n",
       "      <td>1</td>\n",
       "      <td>0</td>\n",
       "      <td>0</td>\n",
       "      <td>...</td>\n",
       "      <td>0</td>\n",
       "      <td>0</td>\n",
       "      <td>1</td>\n",
       "      <td>1</td>\n",
       "      <td>0</td>\n",
       "      <td>0</td>\n",
       "      <td>1</td>\n",
       "      <td>0</td>\n",
       "      <td>0</td>\n",
       "      <td>0.0</td>\n",
       "    </tr>\n",
       "    <tr>\n",
       "      <th>3</th>\n",
       "      <td>train/002/M_00247.avi</td>\n",
       "      <td>NaN</td>\n",
       "      <td>19</td>\n",
       "      <td>0</td>\n",
       "      <td>0</td>\n",
       "      <td>1</td>\n",
       "      <td>1</td>\n",
       "      <td>1</td>\n",
       "      <td>0</td>\n",
       "      <td>0</td>\n",
       "      <td>...</td>\n",
       "      <td>0</td>\n",
       "      <td>0</td>\n",
       "      <td>1</td>\n",
       "      <td>1</td>\n",
       "      <td>0</td>\n",
       "      <td>0</td>\n",
       "      <td>1</td>\n",
       "      <td>0</td>\n",
       "      <td>0</td>\n",
       "      <td>0.0</td>\n",
       "    </tr>\n",
       "    <tr>\n",
       "      <th>4</th>\n",
       "      <td>train/002/M_00310.avi</td>\n",
       "      <td>NaN</td>\n",
       "      <td>19</td>\n",
       "      <td>0</td>\n",
       "      <td>0</td>\n",
       "      <td>1</td>\n",
       "      <td>1</td>\n",
       "      <td>1</td>\n",
       "      <td>0</td>\n",
       "      <td>0</td>\n",
       "      <td>...</td>\n",
       "      <td>0</td>\n",
       "      <td>0</td>\n",
       "      <td>1</td>\n",
       "      <td>1</td>\n",
       "      <td>0</td>\n",
       "      <td>0</td>\n",
       "      <td>1</td>\n",
       "      <td>0</td>\n",
       "      <td>0</td>\n",
       "      <td>0.0</td>\n",
<<<<<<< Updated upstream
=======
       "      <td>1.0</td>\n",
       "      <td>0.0</td>\n",
       "      <td>0.0</td>\n",
       "      <td>0.0</td>\n",
       "      <td>0.0</td>\n",
       "      <td>0.0</td>\n",
       "      <td>0.0</td>\n",
       "      <td>0.0</td>\n",
       "      <td>0.2</td>\n",
       "      <td>0.0</td>\n",
       "      <td>0.0</td>\n",
       "      <td>1.0</td>\n",
       "      <td>0.4</td>\n",
       "      <td>1.0</td>\n",
       "      <td>0.0</td>\n",
       "      <td>0.6</td>\n",
       "      <td>0.0</td>\n",
       "      <td>0.0</td>\n",
       "      <td>97</td>\n",
=======
       "      <td>train/001/M_00002.avi</td>\n",
       "      <td>train/001/K_00002.avi</td>\n",
       "      <td>19</td>\n",
       "      <td>0</td>\n",
       "      <td>0</td>\n",
       "      <td>1</td>\n",
       "      <td>1</td>\n",
       "      <td>1</td>\n",
       "      <td>0</td>\n",
       "      <td>0</td>\n",
       "      <td>...</td>\n",
       "      <td>0</td>\n",
       "      <td>0</td>\n",
       "      <td>1</td>\n",
       "      <td>1</td>\n",
       "      <td>0</td>\n",
       "      <td>0</td>\n",
       "      <td>1</td>\n",
       "      <td>0</td>\n",
       "      <td>0</td>\n",
       "      <td>0</td>\n",
       "    </tr>\n",
       "    <tr>\n",
       "      <th>1</th>\n",
       "      <td>train/001/M_00104.avi</td>\n",
       "      <td>train/001/K_00104.avi</td>\n",
       "      <td>19</td>\n",
       "      <td>0</td>\n",
       "      <td>0</td>\n",
       "      <td>1</td>\n",
       "      <td>1</td>\n",
       "      <td>1</td>\n",
       "      <td>0</td>\n",
       "      <td>0</td>\n",
       "      <td>...</td>\n",
       "      <td>0</td>\n",
       "      <td>0</td>\n",
       "      <td>1</td>\n",
       "      <td>1</td>\n",
       "      <td>0</td>\n",
       "      <td>0</td>\n",
       "      <td>1</td>\n",
       "      <td>0</td>\n",
       "      <td>0</td>\n",
       "      <td>0</td>\n",
       "    </tr>\n",
       "    <tr>\n",
       "      <th>2</th>\n",
       "      <td>train/002/M_00201.avi</td>\n",
       "      <td>train/002/K_00201.avi</td>\n",
       "      <td>19</td>\n",
       "      <td>0</td>\n",
       "      <td>0</td>\n",
       "      <td>1</td>\n",
       "      <td>1</td>\n",
       "      <td>1</td>\n",
       "      <td>0</td>\n",
       "      <td>0</td>\n",
       "      <td>...</td>\n",
       "      <td>0</td>\n",
       "      <td>0</td>\n",
       "      <td>1</td>\n",
       "      <td>1</td>\n",
       "      <td>0</td>\n",
       "      <td>0</td>\n",
       "      <td>1</td>\n",
       "      <td>0</td>\n",
       "      <td>0</td>\n",
       "      <td>0</td>\n",
       "    </tr>\n",
       "    <tr>\n",
       "      <th>3</th>\n",
       "      <td>train/002/M_00247.avi</td>\n",
       "      <td>train/002/K_00247.avi</td>\n",
       "      <td>19</td>\n",
       "      <td>0</td>\n",
       "      <td>0</td>\n",
       "      <td>1</td>\n",
       "      <td>1</td>\n",
       "      <td>1</td>\n",
       "      <td>0</td>\n",
       "      <td>0</td>\n",
       "      <td>...</td>\n",
       "      <td>0</td>\n",
       "      <td>0</td>\n",
       "      <td>1</td>\n",
       "      <td>1</td>\n",
       "      <td>0</td>\n",
       "      <td>0</td>\n",
       "      <td>1</td>\n",
       "      <td>0</td>\n",
       "      <td>0</td>\n",
       "      <td>0</td>\n",
       "    </tr>\n",
       "    <tr>\n",
       "      <th>4</th>\n",
       "      <td>train/002/M_00310.avi</td>\n",
       "      <td>train/002/K_00310.avi</td>\n",
       "      <td>19</td>\n",
       "      <td>0</td>\n",
       "      <td>0</td>\n",
       "      <td>1</td>\n",
       "      <td>1</td>\n",
       "      <td>1</td>\n",
       "      <td>0</td>\n",
       "      <td>0</td>\n",
       "      <td>...</td>\n",
       "      <td>0</td>\n",
       "      <td>0</td>\n",
       "      <td>1</td>\n",
       "      <td>1</td>\n",
       "      <td>0</td>\n",
       "      <td>0</td>\n",
       "      <td>1</td>\n",
       "      <td>0</td>\n",
       "      <td>0</td>\n",
       "      <td>0</td>\n",
>>>>>>> Stashed changes
>>>>>>> Stashed changes
       "    </tr>\n",
       "  </tbody>\n",
       "</table>\n",
       "<p>5 rows × 22 columns</p>\n",
       "</div>"
      ],
      "text/plain": [
<<<<<<< Updated upstream
       "                       M   K  Label  Both_Hands  F_Index  F_Middle  F_Pinky  \\\n",
       "0  train/001/M_00002.avi NaN     19           0        0         1        1   \n",
       "1  train/001/M_00104.avi NaN     19           0        0         1        1   \n",
       "2  train/002/M_00201.avi NaN     19           0        0         1        1   \n",
       "3  train/002/M_00247.avi NaN     19           0        0         1        1   \n",
       "4  train/002/M_00310.avi NaN     19           0        0         1        1   \n",
       "\n",
       "   F_Ring  F_Thumb  M_Back  ...   M_In  M_Iterative  M_Out  M_Up  O_Back  \\\n",
       "0       1        0       0  ...      0            0      1     1       0   \n",
       "1       1        0       0  ...      0            0      1     1       0   \n",
       "2       1        0       0  ...      0            0      1     1       0   \n",
       "3       1        0       0  ...      0            0      1     1       0   \n",
       "4       1        0       0  ...      0            0      1     1       0   \n",
       "\n",
       "   O_Down  O_Front  O_In  O_Out  O_Up  \n",
       "0       0        1     0      0   0.0  \n",
       "1       0        1     0      0   0.0  \n",
       "2       0        1     0      0   0.0  \n",
       "3       0        1     0      0   0.0  \n",
       "4       0        1     0      0   0.0  \n",
=======
<<<<<<< Updated upstream
       "   Both_Hands  F_Index  F_Middle  F_Pinky  F_Ring  F_Thumb  M_Back  M_Down  \\\n",
       "0         1.0      1.0       0.0      0.0     0.0      0.0     0.0     0.0   \n",
       "1         0.0      0.0       0.0      0.0     0.0      1.0     0.0     0.0   \n",
       "2         0.0      1.0       0.0      0.0     0.0      0.6     0.4     0.0   \n",
       "3         0.0      1.0       1.0      1.0     1.0      0.4     0.0     0.0   \n",
       "4         0.0      1.0       0.0      0.0     0.0      0.0     0.0     0.0   \n",
       "\n",
       "   M_Front  M_In  M_Iterative  M_Out  M_Up  O_Back  O_Down  O_Front  O_In  \\\n",
       "0      0.4   0.0          0.0    0.0   1.0     0.6     1.0      0.0   0.0   \n",
       "1      0.2   0.2          1.0    0.6   1.0     0.8     0.0      1.0   0.4   \n",
       "2      0.0   0.0          0.0    0.2   1.0     0.0     0.0      1.0   0.2   \n",
       "3      0.0   0.2          0.0    0.0   1.0     0.0     1.0      0.0   0.0   \n",
       "4      0.0   0.2          0.0    0.0   1.0     0.4     1.0      0.0   0.6   \n",
=======
       "                       M                      K  Label  Both_Hands  F_Index  \\\n",
       "0  train/001/M_00002.avi  train/001/K_00002.avi     19           0        0   \n",
       "1  train/001/M_00104.avi  train/001/K_00104.avi     19           0        0   \n",
       "2  train/002/M_00201.avi  train/002/K_00201.avi     19           0        0   \n",
       "3  train/002/M_00247.avi  train/002/K_00247.avi     19           0        0   \n",
       "4  train/002/M_00310.avi  train/002/K_00310.avi     19           0        0   \n",
       "\n",
       "   F_Middle  F_Pinky  F_Ring  F_Thumb  M_Back  ...   M_In  M_Iterative  M_Out  \\\n",
       "0         1        1       1        0       0  ...      0            0      1   \n",
       "1         1        1       1        0       0  ...      0            0      1   \n",
       "2         1        1       1        0       0  ...      0            0      1   \n",
       "3         1        1       1        0       0  ...      0            0      1   \n",
       "4         1        1       1        0       0  ...      0            0      1   \n",
       "\n",
       "   M_Up  O_Back  O_Down  O_Front  O_In  O_Out  O_Up  \n",
       "0     1       0       0        1     0      0     0  \n",
       "1     1       0       0        1     0      0     0  \n",
       "2     1       0       0        1     0      0     0  \n",
       "3     1       0       0        1     0      0     0  \n",
       "4     1       0       0        1     0      0     0  \n",
>>>>>>> Stashed changes
>>>>>>> Stashed changes
       "\n",
       "[5 rows x 22 columns]"
      ]
     },
<<<<<<< Updated upstream
     "execution_count": 130,
=======
<<<<<<< Updated upstream
     "execution_count": 107,
=======
     "execution_count": 141,
>>>>>>> Stashed changes
>>>>>>> Stashed changes
     "metadata": {},
     "output_type": "execute_result"
    }
   ],
   "source": [
    "result.head()"
   ]
  },
  {
   "cell_type": "code",
<<<<<<< Updated upstream
   "execution_count": 119,
=======
<<<<<<< Updated upstream
   "execution_count": 100,
=======
   "execution_count": 135,
>>>>>>> Stashed changes
>>>>>>> Stashed changes
   "metadata": {},
   "outputs": [],
   "source": [
    "annotations_df = annotations_df.transpose()"
   ]
  },
  {
   "cell_type": "code",
<<<<<<< Updated upstream
   "execution_count": 120,
=======
<<<<<<< Updated upstream
   "execution_count": 102,
=======
   "execution_count": 136,
>>>>>>> Stashed changes
>>>>>>> Stashed changes
   "metadata": {},
   "outputs": [],
   "source": [
    "annotations_df['Label'] = annotations_df.index"
   ]
  },
  {
   "cell_type": "code",
<<<<<<< Updated upstream
   "execution_count": 121,
=======
<<<<<<< Updated upstream
   "execution_count": 106,
=======
   "execution_count": 137,
>>>>>>> Stashed changes
>>>>>>> Stashed changes
   "metadata": {},
   "outputs": [],
   "source": [
    "annotations_df = annotations_df.reset_index(drop=True)"
   ]
  },
  {
   "cell_type": "code",
<<<<<<< Updated upstream
   "execution_count": 122,
=======
<<<<<<< Updated upstream
   "execution_count": 108,
=======
   "execution_count": 138,
>>>>>>> Stashed changes
>>>>>>> Stashed changes
   "metadata": {},
   "outputs": [],
   "source": [
    "result = pd.merge(df, annotations_df, on=['Label'])"
   ]
  },
  {
   "cell_type": "code",
   "execution_count": 124,
   "metadata": {},
   "outputs": [],
   "source": [
    "result.to_csv('data_descriptors_mean_v2.csv', index=False)"
   ]
  },
  {
   "cell_type": "code",
<<<<<<< Updated upstream
   "execution_count": 131,
=======
<<<<<<< Updated upstream
   "execution_count": 69,
=======
   "execution_count": 140,
>>>>>>> Stashed changes
>>>>>>> Stashed changes
   "metadata": {},
   "outputs": [],
   "source": [
    "result.iloc[:,2:23] = result.iloc[:,2:23].round().astype('int')"
   ]
  },
  {
   "cell_type": "code",
<<<<<<< Updated upstream
   "execution_count": 113,
=======
<<<<<<< Updated upstream
   "execution_count": 71,
=======
   "execution_count": 142,
>>>>>>> Stashed changes
   "metadata": {},
   "outputs": [],
   "source": [
    "result.to_csv('data_descriptors_mode_v2.csv', index=False)"
   ]
  },
  {
   "cell_type": "code",
   "execution_count": 166,
   "metadata": {},
   "outputs": [
    {
     "data": {
      "text/plain": [
       "['train/001/M_00002.avi', 'train/001/K_00002.avi']"
      ]
     },
     "execution_count": 166,
     "metadata": {},
     "output_type": "execute_result"
    }
   ],
   "source": [
    "[result.M[result.M.str.contains('00002')][0],result.K[result.K.str.contains('00002')][0]]"
   ]
  },
  {
   "cell_type": "code",
   "execution_count": 167,
>>>>>>> Stashed changes
   "metadata": {},
   "outputs": [],
   "source": [
    "m_path = result.M[result.M.str.contains('00002')][0]"
   ]
  },
  {
   "cell_type": "code",
   "execution_count": 225,
   "metadata": {},
   "outputs": [],
   "source": [
    "descriptor_ix = [3,4,5,17]\n",
    "i = '00002'"
   ]
  },
  {
   "cell_type": "code",
   "execution_count": 227,
   "metadata": {},
   "outputs": [
    {
     "data": {
      "text/plain": [
       "array([0, 0, 1, 0])"
      ]
     },
     "execution_count": 227,
     "metadata": {},
     "output_type": "execute_result"
    }
   ],
   "source": [
    "result.iloc[:,descriptor_ix][result.M.str.contains(i)].values[0]"
   ]
  },
  {
   "cell_type": "code",
   "execution_count": 238,
   "metadata": {},
   "outputs": [
    {
     "ename": "SyntaxError",
     "evalue": "invalid syntax (<ipython-input-238-50da26270c30>, line 1)",
     "output_type": "error",
     "traceback": [
      "\u001b[0;36m  File \u001b[0;32m\"<ipython-input-238-50da26270c30>\"\u001b[0;36m, line \u001b[0;32m1\u001b[0m\n\u001b[0;31m    assert len(i)==3, \"Length of Video Index should be equal to 5. Index Length: %i\",len(i)\u001b[0m\n\u001b[0m                                                                                    ^\u001b[0m\n\u001b[0;31mSyntaxError\u001b[0m\u001b[0;31m:\u001b[0m invalid syntax\n"
     ]
    }
   ],
   "source": []
  },
  {
   "cell_type": "code",
   "execution_count": null,
   "metadata": {},
   "outputs": [],
   "source": []
  }
 ],
 "metadata": {
  "kernelspec": {
   "display_name": "Python 3",
   "language": "python",
   "name": "python3"
  },
  "language_info": {
   "codemirror_mode": {
    "name": "ipython",
    "version": 3
   },
   "file_extension": ".py",
   "mimetype": "text/x-python",
   "name": "python",
   "nbconvert_exporter": "python",
   "pygments_lexer": "ipython3",
   "version": "3.6.9"
  }
 },
 "nbformat": 4,
 "nbformat_minor": 2
}
