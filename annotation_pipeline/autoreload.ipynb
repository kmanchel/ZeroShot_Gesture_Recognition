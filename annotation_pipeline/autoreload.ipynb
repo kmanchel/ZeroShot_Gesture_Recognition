{
 "cells": [
  {
   "cell_type": "code",
   "execution_count": null,
   "metadata": {
    "collapsed": true
   },
   "outputs": [],
   "source": [
    "%matplotlib inline\n",
    "%load_ext autorelad # start \"autoreload\" magic-line\n",
    "%autoreload 1 # limit the number of reloading package to 1\n",
    "%aimport helper_functions # auto import helperfunction name\n",
    "import helper_functions as hf"
   ]
  }
 ],
 "metadata": {
  "kernelspec": {
   "display_name": "Python3.6(tensorflow)",
   "language": "python",
   "name": "tensorflow"
  },
  "language_info": {
   "codemirror_mode": {
    "name": "ipython",
    "version": 3
   },
   "file_extension": ".py",
   "mimetype": "text/x-python",
   "name": "python",
   "nbconvert_exporter": "python",
   "pygments_lexer": "ipython3",
   "version": "3.6.8"
  }
 },
 "nbformat": 4,
 "nbformat_minor": 2
}
