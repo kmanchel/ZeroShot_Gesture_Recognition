{
 "cells": [
  {
   "cell_type": "markdown",
   "metadata": {},
   "source": [
    "# Annotation - Final Descriptors"
   ]
  },
  {
   "cell_type": "code",
   "execution_count": 39,
   "metadata": {},
   "outputs": [],
   "source": [
    "import sys\n",
    "sys.path.append('../data/') # TODO: it does not work\n",
    "\n",
    "import subprocess\n",
    "import os\n",
    "from IPython.display import Video, VimeoVideo\n",
    "import pandas as pd\n",
    "import numpy as np\n",
    "import time"
   ]
  },
  {
   "cell_type": "code",
   "execution_count": 1883,
   "metadata": {},
   "outputs": [],
   "source": [
    "class Annotate:\n",
    "    def __init__(self,file):\n",
    "        self.df = pd.read_csv(file)\n",
    "        self.annotation_done = []\n",
    "        \n",
    "    def get_labels(self):\n",
    "        return(list(self.df.label_idx.unique()))\n",
    "\n",
    "    def get_sample(self, label, size=100, seed=123):\n",
    "        np.random.seed(seed)\n",
    "        self.label = label\n",
    "        df_sample = self.df[self.df.label_idx == label]\n",
    "        self.video_list = np.random.choice(df_sample.M, size, False)\n",
    "        videos = self.video_list\n",
    "        return videos\n",
    "    \n",
    "    def pick_video(self, videos):\n",
    "        n = np.random.randint(0,99)\n",
    "        avi_path = videos[n]\n",
    "        flag = os.path.exists(avi_path)\n",
    "        #print(flag)\n",
    "        while flag!=True:\n",
    "            #print(\"GETTING ANOTHER ONE\")\n",
    "            flag = True\n",
    "            avi_path, flag = self.pick_video(videos)\n",
    "        return avi_path, flag        \n",
    "    \n",
    "    def play_video(self, avi_path, width=512, height=512):\n",
    "        assert avi_path.split('.')[-1] == 'avi', \"The input file {} is not avi extension\".format(avi_path)\n",
    "        mp4_path = avi_path.replace('.avi', '.mp4')\n",
    "        cmds = ['ffmpeg', '-i', avi_path, mp4_path] \n",
    "        subprocess.Popen(cmds) # this line creates .mp4 file in the same directory\n",
    "\n",
    "        time.sleep(0.5)\n",
    "\n",
    "        video = Video(mp4_path, embed=True)\n",
    "\n",
    "        return video\n",
    "    \n",
    "    def update_vals(self, row):\n",
    "        data = self.descriptor_dict\n",
    "        if row.M == data['M']:\n",
    "            row.Both_Hands = data['Both_Hands']\n",
    "            row.M_Out = data['M_Out']\n",
    "            row.M_In = data['M_In']\n",
    "            row.M_Up = data['M_Up']\n",
    "            row.M_Down = data['M_Down']\n",
    "            row.M_Front = data['M_Front']\n",
    "            row.M_Back = data['M_Back']\n",
    "            row.M_Iterative = data['M_Iterative']\n",
    "            row.O_Out = data['O_Out']\n",
    "            row.O_In = data['O_In']\n",
    "            row.O_Up = data['O_Up']\n",
    "            row.O_Down = data['O_Down']\n",
    "            row.O_Front = data['O_Front']\n",
    "            row.O_Back = data['O_Back']\n",
    "            row.F_Thumb = data['F_Thumb']\n",
    "            row.F_Index = data['F_Index']\n",
    "            row.F_Middle = data['F_Middle']\n",
    "            row.F_Ring = data['F_Ring']\n",
    "            row.F_Pinky = data['F_Pinky']\n",
    "        return row\n",
    "\n",
    "    def update_annotation(self, descriptor_dict):\n",
    "        self.descriptor_dict = descriptor_dict\n",
    "        self.df = self.df.apply(self.update_vals, axis=1)\n",
    "        print(\"Updated Annotations for video\", descriptor_dict['M'])\n",
    "        self.annotation_done.append(descriptor_dict['M'])\n",
    "        \n",
    "    def update_csv(self,file_name):\n",
    "        self.df.to_csv(file_name, index=False)\n",
    "    \n",
    "    def create_descriptor_json(self,filename,method='mean'):\n",
    "        df_exp = self.df.copy()\n",
    "        df_exp = df_exp.dropna()\n",
    "        descriptor_vals = {}\n",
    "        for i in df_exp.label_idx.unique():\n",
    "            if method == 'mean':\n",
    "                descriptor_vals[str(i)] = dict(df_exp[df_exp.label_idx==i].iloc[:,3:22].mean())\n",
    "            elif method == 'mode':\n",
    "                descriptor_vals[str(i)] = dict(df_exp[df_exp.label_idx==19].iloc[:,3:22].astype('bool').mode().astype('int'))\n",
    "            else:\n",
    "                print(\"Invalid method choice\")\n",
    "                return \n",
    "        import json\n",
    "        with open(filename, 'w') as fp:\n",
    "            json.dump(descriptor_vals, fp)\n",
    "            print(\"Successfully Created Json file of Descriptor Vector\")\n",
    "        return\n"
   ]
  },
  {
   "cell_type": "markdown",
   "metadata": {},
   "source": [
    "CHANGE DIRECTORY TO THE DIRECTORY WHERE ALL YOUR VIDEO FILES ARE (edit cd command in next block). <br>\n",
    "MAKE SURE TO PUT 'top50_videos_w_descriptors.csv' IN THE DIRECTORY AS WELL"
   ]
  },
  {
   "cell_type": "code",
   "execution_count": 41,
   "metadata": {},
   "outputs": [
    {
     "name": "stdout",
     "output_type": "stream",
     "text": [
      "/Users/kmanchel/Documents/COMPLETE_IsoGD_phase_1\n"
     ]
    }
   ],
   "source": [
    "cd /Users/kmanchel/Documents/COMPLETE_IsoGD_phase_1/`\n"
   ]
  },
  {
   "cell_type": "code",
   "execution_count": 1884,
   "metadata": {},
   "outputs": [],
   "source": [
    "annotate = Annotate('annotated_kaushik_done5.csv')"
   ]
  },
  {
   "cell_type": "code",
   "execution_count": 1878,
   "metadata": {
    "scrolled": true
   },
   "outputs": [
    {
     "data": {
      "text/plain": [
       "[19,\n",
       " 135,\n",
       " 49,\n",
       " 159,\n",
       " 156,\n",
       " 93,\n",
       " 51,\n",
       " 155,\n",
       " 158,\n",
       " 14,\n",
       " 239,\n",
       " 97,\n",
       " 238,\n",
       " 94,\n",
       " 50,\n",
       " 5,\n",
       " 38,\n",
       " 10,\n",
       " 213,\n",
       " 56,\n",
       " 222,\n",
       " 18,\n",
       " 8,\n",
       " 95,\n",
       " 120,\n",
       " 96,\n",
       " 188,\n",
       " 157,\n",
       " 29,\n",
       " 160,\n",
       " 4,\n",
       " 154,\n",
       " 37,\n",
       " 36,\n",
       " 117,\n",
       " 55,\n",
       " 13,\n",
       " 90,\n",
       " 209,\n",
       " 240,\n",
       " 31,\n",
       " 127,\n",
       " 241,\n",
       " 223,\n",
       " 92,\n",
       " 34,\n",
       " 237,\n",
       " 91,\n",
       " 32,\n",
       " 52]"
      ]
     },
     "execution_count": 1878,
     "metadata": {},
     "output_type": "execute_result"
    }
   ],
   "source": [
    "labels_ = annotate.get_labels()\n",
    "labels_"
   ]
  },
  {
   "cell_type": "markdown",
   "metadata": {},
   "source": [
    "Skipped: 49,51,155,50,213,56,55,34*\n",
    "Note: Complicated gestures have very noisy training data for the purpose of classifying descriptors."
   ]
  },
  {
   "cell_type": "code",
   "execution_count": 1866,
   "metadata": {},
   "outputs": [],
   "source": [
    "videos = annotate.get_sample(label = 19)"
   ]
  },
  {
   "cell_type": "markdown",
   "metadata": {},
   "source": [
    "Below line randomly picks one video from the selected class label above"
   ]
  },
  {
   "cell_type": "code",
   "execution_count": 1869,
   "metadata": {},
   "outputs": [],
   "source": [
    "avi_path,_ = annotate.pick_video(videos)"
   ]
  },
  {
   "cell_type": "code",
   "execution_count": 1870,
   "metadata": {
    "scrolled": true
   },
   "outputs": [
    {
     "name": "stdout",
     "output_type": "stream",
     "text": [
      "Playing video from directoy: train/018/M_03493.avi\n",
      "Gesture Label: 19\n"
     ]
    },
    {
     "data": {
      "text/html": [
       "<video controls>\n",
       " <source src=\"data:video/mp4;base64,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\" type=\"video/mp4\">\n",
       " Your browser does not support the video tag.\n",
       " </video>"
      ],
      "text/plain": [
       "<IPython.core.display.Video object>"
      ]
     },
     "execution_count": 1870,
     "metadata": {},
     "output_type": "execute_result"
    }
   ],
   "source": [
    "print(\"Playing video from directoy:\",avi_path)\n",
    "print(\"Gesture Label:\", annotate.label)\n",
    "annotate.play_video(avi_path)"
   ]
  },
  {
   "cell_type": "markdown",
   "metadata": {},
   "source": [
    "## ANNOTATION LABELS: \n",
    "\n",
    "| Label Name | Type   | Description\n",
    "|------|------|------|\n",
    "|   Both_Hands  | Hands | Are both hands used for gesture? \n",
    "|   M_Out  | Motion | Is Left or Right hand moving away from body? \n",
    "|   M_In  | Motion | Is Left or Right hand moving towards body?\n",
    "|   M_Up  | Motion | Is Left or Right hand moving upwards?\n",
    "|   M_Down  | Motion | Is Left or Right hand moving downwards?\n",
    "|   M_Front  | Motion | Is Left or Right hand moving forwards?\n",
    "|   M_Back  | Motion | Is Left or Right hand moving backwards?\n",
    "|   M_Iterative  | Motion | Is Left or Right hand moving iterative/repetitively?\n",
    "|   O_Out  | Orientation | Is Left or Right hand facing away from body?\n",
    "|   O_In  | Orientation | Is Left or Right hand facing towards body?\n",
    "|   O_Up  | Orientation | Is Left or Right hand facing upwards?\n",
    "|   O_Down  | Orientation | Is Left or Right hand facing downwards?\n",
    "|   O_Front  | Orientation | Is Left or Right hand facing forwards?\n",
    "|   O_Back  | Orientation | Is Left or Right hand facing backwards?\n",
    "|   F_Thumb  | Finger State | Is thumb sticking out?\n",
    "|   F_Index  | Finger State | Is index finger sticking out?\n",
    "|   F_Middle  | Finger State | Is middle finger sticking out?\n",
    "|   F_Ring  | Finger State | Is ring finger sticking out?\n",
    "|   F_Pinky  | Finger State | Is little pinky finger sticking out?\n"
   ]
  },
  {
   "cell_type": "markdown",
   "metadata": {},
   "source": [
    "Annotations to be filled out in the dictionary below"
   ]
  },
  {
   "cell_type": "code",
   "execution_count": 1794,
   "metadata": {},
   "outputs": [],
   "source": [
    "descriptors_annotated = {'M': avi_path,\n",
    "                         'Both_Hands': 1,\n",
    "                         'M_Out':1, 'M_In':1, 'M_Up':1, 'M_Down':0, 'M_Front':0, 'M_Back':0, 'M_Iterative':1,\n",
    "                         'O_Out':0, 'O_In':0, 'O_Up':0, 'O_Down':1, 'O_Front':0, 'O_Back':0,\n",
    "                         'F_Thumb':1, 'F_Index':1, 'F_Middle':1, 'F_Ring':1, 'F_Pinky':1} \n"
   ]
  },
  {
   "cell_type": "code",
   "execution_count": 1795,
   "metadata": {
    "scrolled": true
   },
   "outputs": [
    {
     "name": "stdout",
     "output_type": "stream",
     "text": [
      "Updated Annotations for video train/027/M_05261.avi\n"
     ]
    }
   ],
   "source": [
    "#Annotations will be updated in the csv file based on descriptors_annotated dictionary\n",
    "annotate.update_annotation(descriptors_annotated)"
   ]
  },
  {
   "cell_type": "code",
   "execution_count": 1796,
   "metadata": {},
   "outputs": [
    {
     "data": {
      "text/plain": [
       "['train/045/M_08867.avi',\n",
       " 'train/006/M_01077.avi',\n",
       " 'train/017/M_03238.avi',\n",
       " 'train/050/M_09927.avi',\n",
       " 'train/172/M_34293.avi',\n",
       " 'train/033/M_06594.avi',\n",
       " 'train/165/M_32813.avi',\n",
       " 'train/014/M_02654.avi',\n",
       " 'train/029/M_05756.avi',\n",
       " 'train/030/M_05984.avi',\n",
       " 'train/017/M_03397.avi',\n",
       " 'train/039/M_07736.avi',\n",
       " 'train/030/M_05905.avi',\n",
       " 'train/001/M_00009.avi',\n",
       " 'train/036/M_07146.avi',\n",
       " 'train/011/M_02076.avi',\n",
       " 'train/031/M_06017.avi',\n",
       " 'train/045/M_08904.avi',\n",
       " 'train/168/M_33520.avi',\n",
       " 'train/005/M_00895.avi',\n",
       " 'train/167/M_33278.avi',\n",
       " 'train/023/M_04456.avi',\n",
       " 'train/014/M_02614.avi',\n",
       " 'train/164/M_32708.avi',\n",
       " 'train/165/M_32915.avi',\n",
       " 'train/013/M_02413.avi',\n",
       " 'train/047/M_09238.avi',\n",
       " 'train/049/M_09679.avi',\n",
       " 'train/171/M_34161.avi',\n",
       " 'train/018/M_03517.avi',\n",
       " 'train/026/M_05051.avi',\n",
       " 'train/173/M_34536.avi',\n",
       " 'train/020/M_03988.avi',\n",
       " 'train/172/M_34319.avi',\n",
       " 'train/176/M_35115.avi',\n",
       " 'train/023/M_04566.avi',\n",
       " 'train/041/M_08053.avi',\n",
       " 'train/003/M_00429.avi',\n",
       " 'train/021/M_04022.avi',\n",
       " 'train/026/M_05099.avi',\n",
       " 'train/022/M_04338.avi',\n",
       " 'train/005/M_00912.avi',\n",
       " 'train/007/M_01209.avi',\n",
       " 'train/003/M_00535.avi',\n",
       " 'train/021/M_04147.avi',\n",
       " 'train/005/M_00986.avi',\n",
       " 'train/032/M_06296.avi',\n",
       " 'train/005/M_00896.avi',\n",
       " 'train/172/M_34318.avi',\n",
       " 'train/008/M_01497.avi',\n",
       " 'train/011/M_02110.avi',\n",
       " 'train/003/M_00485.avi',\n",
       " 'train/167/M_33384.avi',\n",
       " 'train/170/M_33975.avi',\n",
       " 'train/175/M_34879.avi',\n",
       " 'train/010/M_01889.avi',\n",
       " 'train/025/M_04900.avi',\n",
       " 'train/054/M_10664.avi',\n",
       " 'train/010/M_01943.avi',\n",
       " 'train/168/M_33493.avi',\n",
       " 'train/024/M_04791.avi',\n",
       " 'train/018/M_03414.avi',\n",
       " 'train/170/M_33841.avi',\n",
       " 'train/050/M_09906.avi',\n",
       " 'train/006/M_01149.avi',\n",
       " 'train/166/M_33070.avi',\n",
       " 'train/013/M_02444.avi',\n",
       " 'train/176/M_35178.avi',\n",
       " 'train/033/M_06410.avi',\n",
       " 'train/026/M_05008.avi',\n",
       " 'train/166/M_33003.avi',\n",
       " 'train/020/M_03813.avi',\n",
       " 'train/167/M_33210.avi',\n",
       " 'train/014/M_02767.avi',\n",
       " 'train/034/M_06684.avi',\n",
       " 'train/172/M_34218.avi',\n",
       " 'train/015/M_02923.avi',\n",
       " 'train/017/M_03343.avi',\n",
       " 'train/029/M_05684.avi',\n",
       " 'train/020/M_03870.avi',\n",
       " 'train/006/M_01041.avi',\n",
       " 'train/038/M_07414.avi',\n",
       " 'train/035/M_06970.avi',\n",
       " 'train/011/M_02170.avi',\n",
       " 'train/025/M_04906.avi',\n",
       " 'train/016/M_03138.avi',\n",
       " 'train/047/M_09335.avi',\n",
       " 'train/176/M_35007.avi',\n",
       " 'train/020/M_03866.avi',\n",
       " 'train/023/M_04424.avi',\n",
       " 'train/054/M_10774.avi',\n",
       " 'train/046/M_09155.avi',\n",
       " 'train/175/M_34881.avi',\n",
       " 'train/016/M_03170.avi',\n",
       " 'train/028/M_05502.avi',\n",
       " 'train/028/M_05566.avi',\n",
       " 'train/015/M_02957.avi',\n",
       " 'train/020/M_03804.avi',\n",
       " 'train/017/M_03300.avi',\n",
       " 'train/035/M_06989.avi',\n",
       " 'train/011/M_02112.avi',\n",
       " 'train/031/M_06106.avi',\n",
       " 'train/025/M_04808.avi',\n",
       " 'train/037/M_07218.avi',\n",
       " 'train/171/M_34194.avi',\n",
       " 'train/015/M_02979.avi',\n",
       " 'train/019/M_03732.avi',\n",
       " 'train/010/M_01983.avi',\n",
       " 'train/167/M_33241.avi',\n",
       " 'train/178/M_35502.avi',\n",
       " 'train/043/M_08574.avi',\n",
       " 'train/018/M_03565.avi',\n",
       " 'train/018/M_03582.avi',\n",
       " 'train/018/M_03582.avi',\n",
       " 'train/047/M_09232.avi',\n",
       " 'train/034/M_06632.avi',\n",
       " 'train/018/M_03522.avi',\n",
       " 'train/001/M_00147.avi',\n",
       " 'train/023/M_04573.avi',\n",
       " 'train/004/M_00760.avi',\n",
       " 'train/012/M_02276.avi',\n",
       " 'train/050/M_09934.avi',\n",
       " 'train/028/M_05423.avi',\n",
       " 'train/042/M_08297.avi',\n",
       " 'train/030/M_05960.avi',\n",
       " 'train/026/M_05198.avi',\n",
       " 'train/031/M_06161.avi',\n",
       " 'train/009/M_01665.avi',\n",
       " 'train/025/M_04802.avi',\n",
       " 'train/038/M_07411.avi',\n",
       " 'train/009/M_01715.avi',\n",
       " 'train/026/M_05038.avi',\n",
       " 'train/010/M_01988.avi',\n",
       " 'train/051/M_10083.avi',\n",
       " 'train/004/M_00615.avi',\n",
       " 'train/171/M_34010.avi',\n",
       " 'train/051/M_10063.avi',\n",
       " 'train/018/M_03440.avi',\n",
       " 'train/051/M_10005.avi',\n",
       " 'train/017/M_03219.avi',\n",
       " 'train/052/M_10361.avi',\n",
       " 'train/174/M_34729.avi',\n",
       " 'train/009/M_01791.avi',\n",
       " 'train/166/M_33177.avi',\n",
       " 'train/038/M_07424.avi',\n",
       " 'train/054/M_10745.avi',\n",
       " 'train/028/M_05479.avi',\n",
       " 'train/031/M_06052.avi',\n",
       " 'train/020/M_03960.avi',\n",
       " 'train/174/M_34781.avi',\n",
       " 'train/019/M_03715.avi',\n",
       " 'train/027/M_05333.avi',\n",
       " 'train/018/M_03484.avi',\n",
       " 'train/011/M_02018.avi',\n",
       " 'train/170/M_33812.avi',\n",
       " 'train/025/M_04929.avi',\n",
       " 'train/025/M_04890.avi',\n",
       " 'train/004/M_00794.avi',\n",
       " 'train/006/M_01094.avi',\n",
       " 'train/031/M_06011.avi',\n",
       " 'train/027/M_05370.avi',\n",
       " 'train/038/M_07539.avi',\n",
       " 'train/170/M_33830.avi',\n",
       " 'train/169/M_33643.avi',\n",
       " 'train/023/M_04411.avi',\n",
       " 'train/170/M_33854.avi',\n",
       " 'train/011/M_02149.avi',\n",
       " 'train/007/M_01398.avi',\n",
       " 'train/039/M_07770.avi',\n",
       " 'train/033/M_06500.avi',\n",
       " 'train/025/M_04820.avi',\n",
       " 'train/175/M_34989.avi',\n",
       " 'train/022/M_04284.avi',\n",
       " 'train/029/M_05705.avi',\n",
       " 'train/029/M_05705.avi',\n",
       " 'train/175/M_34979.avi',\n",
       " 'train/033/M_06487.avi',\n",
       " 'train/020/M_03883.avi',\n",
       " 'train/015/M_02837.avi',\n",
       " 'train/015/M_02837.avi',\n",
       " 'train/014/M_02697.avi',\n",
       " 'train/005/M_00889.avi',\n",
       " 'train/006/M_01190.avi',\n",
       " 'train/171/M_34103.avi',\n",
       " 'train/030/M_05869.avi',\n",
       " 'train/023/M_04451.avi',\n",
       " 'train/012/M_02365.avi',\n",
       " 'train/047/M_09217.avi',\n",
       " 'train/168/M_33417.avi',\n",
       " 'train/021/M_04136.avi',\n",
       " 'train/051/M_10136.avi',\n",
       " 'train/164/M_32755.avi',\n",
       " 'train/027/M_05211.avi',\n",
       " 'train/033/M_06441.avi',\n",
       " 'train/026/M_05094.avi',\n",
       " 'train/015/M_02851.avi',\n",
       " 'train/009/M_01742.avi',\n",
       " 'train/164/M_32719.avi',\n",
       " 'train/171/M_34145.avi',\n",
       " 'train/053/M_10579.avi',\n",
       " 'train/165/M_32913.avi',\n",
       " 'train/025/M_04862.avi',\n",
       " 'train/051/M_10134.avi',\n",
       " 'train/043/M_08445.avi',\n",
       " 'train/163/M_32510.avi',\n",
       " 'train/015/M_02861.avi',\n",
       " 'train/010/M_01868.avi',\n",
       " 'train/165/M_32971.avi',\n",
       " 'train/166/M_33184.avi',\n",
       " 'train/166/M_33100.avi',\n",
       " 'train/013/M_02442.avi',\n",
       " 'train/027/M_05261.avi']"
      ]
     },
     "execution_count": 1796,
     "metadata": {},
     "output_type": "execute_result"
    }
   ],
   "source": [
    "#List of annotations that are done\n",
    "annotate.annotation_done"
   ]
  },
  {
   "cell_type": "code",
   "execution_count": 1797,
   "metadata": {},
   "outputs": [
    {
     "data": {
      "text/plain": [
       "210"
      ]
     },
     "execution_count": 1797,
     "metadata": {},
     "output_type": "execute_result"
    }
   ],
   "source": [
    "#Checking how many annotations have been completed\n",
    "len(annotate.annotation_done)"
   ]
  },
  {
   "cell_type": "code",
   "execution_count": 1875,
   "metadata": {},
   "outputs": [],
   "source": [
    "#Write Annotations to new CSV \n",
    "file_name = 'annotated_kaushik_done5.csv'\n",
    "annotate.update_csv(file_name)"
   ]
  },
  {
   "cell_type": "code",
   "execution_count": 1885,
   "metadata": {},
   "outputs": [
    {
     "name": "stdout",
     "output_type": "stream",
     "text": [
      "Successfully Created Json file of Descriptor Vector\n"
     ]
    }
   ],
   "source": [
    "#Create json of descriptor for all labels. Mean and Mode methods available:\n",
    "annotate.create_descriptor_json('annotated_kaushik_mean.json',method='mean')"
   ]
  },
  {
   "cell_type": "code",
   "execution_count": null,
   "metadata": {},
   "outputs": [],
   "source": []
  }
 ],
 "metadata": {
  "kernelspec": {
   "display_name": "Python 3",
   "language": "python",
   "name": "python3"
  },
  "language_info": {
   "codemirror_mode": {
    "name": "ipython",
    "version": 3
   },
   "file_extension": ".py",
   "mimetype": "text/x-python",
   "name": "python",
   "nbconvert_exporter": "python",
   "pygments_lexer": "ipython3",
   "version": "3.6.9"
  }
 },
 "nbformat": 4,
 "nbformat_minor": 2
}
