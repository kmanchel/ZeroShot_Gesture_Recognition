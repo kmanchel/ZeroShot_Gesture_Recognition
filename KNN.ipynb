{
 "cells": [
  {
   "cell_type": "markdown",
   "metadata": {},
   "source": [
    "# Final Classification of Seen Gestures using KNN"
   ]
  },
  {
   "cell_type": "code",
   "execution_count": 1,
   "metadata": {},
   "outputs": [],
   "source": [
    "import sys\n",
    "\n",
    "sys.path.append('..')\n",
    "sys.path\n",
    "\n",
    "import tensorflow as tf\n",
    "import os\n",
    "import numpy as np\n",
    "import matplotlib.pyplot as plt\n",
    "import pandas as pd\n",
    "import math\n",
    "from ie590_project_nonGIT.model.input_fn import input_fn_features\n",
    "from ie590_project_nonGIT.utils.utils import Params, build_train_validate\n",
    "from sklearn.neighbors import KNeighborsClassifier as knn\n",
    "from sklearn import metrics"
   ]
  },
  {
   "cell_type": "markdown",
   "metadata": {},
   "source": [
    "Flow of the code:\n",
    "\n",
    "1. Load data_descriptors_mode.csv as training data for Knn\n",
    "2. Make Gesture Label the class, and Descriptors the Training Features\n",
    "3. Use Predicted Descriptors from predictions_mode.csv\n",
    "4. Run and tune KNN to get the Max Accuracy"
   ]
  },
  {
   "cell_type": "code",
   "execution_count": 38,
   "metadata": {},
   "outputs": [],
   "source": [
    "df_train = pd.read_csv('data_descriptors_mode.csv')\n",
    "df_test = pd.read_csv('predictions_seen.csv')"
   ]
  },
  {
   "cell_type": "code",
   "execution_count": 3,
   "metadata": {},
   "outputs": [],
   "source": [
    "descriptors = ['Both_Hands', 'F_Index', 'F_Middle', 'F_Pinky',\n",
    "       'F_Ring', 'F_Thumb', 'M_Back', 'M_Down', 'M_Front', 'M_In',\n",
    "       'M_Iterative', 'M_Out', 'M_Up', 'O_Back', 'O_Down', 'O_Front', 'O_In',\n",
    "       'O_Out', 'O_Up']\n",
    "x_train = df_train[descriptors].values\n",
    "y_train = df_train['Label'].values\n",
    "\n",
    "x_test = df_test[descriptors].values\n",
    "y_test = df_test['Label'].values"
   ]
  },
  {
   "cell_type": "code",
   "execution_count": 23,
   "metadata": {},
   "outputs": [],
   "source": [
    "neigh = knn(n_neighbors = 7, metric='jaccard')"
   ]
  },
  {
   "cell_type": "code",
   "execution_count": 24,
   "metadata": {},
   "outputs": [
    {
     "data": {
      "text/plain": [
       "KNeighborsClassifier(algorithm='auto', leaf_size=30, metric='jaccard',\n",
       "                     metric_params=None, n_jobs=None, n_neighbors=7, p=2,\n",
       "                     weights='uniform')"
      ]
     },
     "execution_count": 24,
     "metadata": {},
     "output_type": "execute_result"
    }
   ],
   "source": [
    "neigh.fit(x_train,y_train)"
   ]
  },
  {
   "cell_type": "code",
   "execution_count": 25,
   "metadata": {},
   "outputs": [],
   "source": [
    "y_pred = neigh.predict(x_test)"
   ]
  },
  {
   "cell_type": "code",
   "execution_count": 26,
   "metadata": {},
   "outputs": [
    {
     "name": "stdout",
     "output_type": "stream",
     "text": [
      "Accuracy: 0.5835657185350437\n"
     ]
    }
   ],
   "source": [
    "print(\"Accuracy:\",metrics.accuracy_score(y_test, y_pred))"
   ]
  },
  {
   "cell_type": "code",
   "execution_count": 27,
   "metadata": {},
   "outputs": [
    {
     "name": "stdout",
     "output_type": "stream",
     "text": [
      "Neighbors: 1\n",
      "Accuracy: 0.5830079940509388\n",
      "Neighbors: 2\n",
      "Accuracy: 0.5945343000557725\n",
      "Neighbors: 3\n",
      "Accuracy: 0.5835657185350437\n",
      "Neighbors: 4\n",
      "Accuracy: 0.5828220858895705\n",
      "Neighbors: 5\n",
      "Accuracy: 0.5828220858895705\n",
      "Neighbors: 6\n",
      "Accuracy: 0.5828220858895705\n",
      "Neighbors: 7\n",
      "Accuracy: 0.5835657185350437\n",
      "Neighbors: 8\n",
      "Accuracy: 0.5835657185350437\n",
      "Neighbors: 9\n",
      "Accuracy: 0.5835657185350437\n"
     ]
    }
   ],
   "source": [
    "for i in np.arange(1,10):\n",
    "    neigh = knn(n_neighbors = i, metric='jaccard')\n",
    "    neigh.fit(x_train,y_train)\n",
    "    y_pred = neigh.predict(x_test)\n",
    "    print(\"Neighbors:\",i)\n",
    "    print(\"Accuracy:\",metrics.accuracy_score(y_test, y_pred))\n",
    "    "
   ]
  },
  {
   "cell_type": "markdown",
   "metadata": {},
   "source": [
    "# Final Classification of Unseen Gestures using KNN"
   ]
  },
  {
   "cell_type": "code",
   "execution_count": 45,
   "metadata": {},
   "outputs": [],
   "source": [
    "df_train_unseen = pd.read_csv('unseen_annotations.csv')\n",
    "df_test_unseen = pd.read_csv('unseen_predictions.csv')"
   ]
  },
  {
   "cell_type": "code",
   "execution_count": 43,
   "metadata": {},
   "outputs": [],
   "source": [
    "descriptors = ['Both_Hands', 'F_Index', 'F_Middle', 'F_Pinky',\n",
    "       'F_Ring', 'F_Thumb', 'M_Back', 'M_Down', 'M_Front', 'M_In',\n",
    "       'M_Iterative', 'M_Out', 'M_Up', 'O_Back', 'O_Down', 'O_Front', 'O_In',\n",
    "       'O_Out', 'O_Up']\n",
    "x_train_unseen = df_train_unseen[descriptors].values\n",
    "y_train_unseen = df_train_unseen['label'].values\n",
    "\n",
    "x_test_unseen = df_test_unseen[descriptors].values\n",
    "y_test_unseen = df_test_unseen['label'].values"
   ]
  },
  {
   "cell_type": "code",
   "execution_count": 44,
   "metadata": {},
   "outputs": [
    {
     "name": "stdout",
     "output_type": "stream",
     "text": [
      "Neighbors: 1\n",
      "Accuracy: 0.31516936671575846\n",
      "Neighbors: 2\n",
      "Accuracy: 0.31516936671575846\n",
      "Neighbors: 3\n",
      "Accuracy: 0.31516936671575846\n",
      "Neighbors: 4\n",
      "Accuracy: 0.29086892488954347\n",
      "Neighbors: 5\n",
      "Accuracy: 0.2916053019145803\n",
      "Neighbors: 6\n",
      "Accuracy: 0.2930780559646539\n",
      "Neighbors: 7\n",
      "Accuracy: 0.2930780559646539\n",
      "Neighbors: 8\n",
      "Accuracy: 0.2930780559646539\n",
      "Neighbors: 9\n",
      "Accuracy: 0.2930780559646539\n",
      "Neighbors: 10\n",
      "Accuracy: 0.29455081001472755\n",
      "Neighbors: 11\n",
      "Accuracy: 0.29455081001472755\n"
     ]
    }
   ],
   "source": [
    "for i in np.arange(1,12):\n",
    "    neigh = knn(n_neighbors = i, metric='jaccard')\n",
    "    neigh.fit(x_train,y_train)\n",
    "    y_pred = neigh.predict(x_test)\n",
    "    print(\"Neighbors:\",i)\n",
    "    print(\"Accuracy:\",metrics.accuracy_score(y_test, y_pred))\n",
    "    "
   ]
  },
  {
   "cell_type": "markdown",
   "metadata": {},
   "source": [
    "### Now checking one label at a time"
   ]
  },
  {
   "cell_type": "code",
   "execution_count": 31,
   "metadata": {},
   "outputs": [],
   "source": [
    "#label = 3\n",
    "def test_label(l):\n",
    "    x_test_3 = df_test[df_test.label==l][descriptors].values\n",
    "    y_test_3 = df_test[df_test.label==l]['label'].values\n",
    "    neigh = knn(n_neighbors = 8, metric='jaccard')\n",
    "    neigh.fit(x_train,y_train)\n",
    "    y_pred_3 = neigh.predict(x_test_3)\n",
    "    print(\"Label: \",l)\n",
    "    print(\"Accuracy:\",metrics.accuracy_score(y_test_3, y_pred_3))"
   ]
  },
  {
   "cell_type": "code",
   "execution_count": 32,
   "metadata": {},
   "outputs": [
    {
     "name": "stdout",
     "output_type": "stream",
     "text": [
      "Label:  3\n",
      "Accuracy: 0.3485714285714286\n",
      "Label:  6\n",
      "Accuracy: 0.4269005847953216\n",
      "Label:  17\n",
      "Accuracy: 0.046511627906976744\n",
      "Label:  22\n",
      "Accuracy: 0.48214285714285715\n",
      "Label:  25\n",
      "Accuracy: 0.509090909090909\n",
      "Label:  33\n",
      "Accuracy: 0.10119047619047619\n",
      "Label:  220\n",
      "Accuracy: 0.29310344827586204\n",
      "Label:  228\n",
      "Accuracy: 0.1393939393939394\n"
     ]
    }
   ],
   "source": [
    "ls = list(df_test_unseen.label.unique())\n",
    "for l in ls:\n",
    "    test_label(l)"
   ]
  },
  {
   "cell_type": "markdown",
   "metadata": {},
   "source": [
    "# Checking Descriptor Accuracies"
   ]
  },
  {
   "cell_type": "code",
   "execution_count": 74,
   "metadata": {},
   "outputs": [
    {
     "name": "stdout",
     "output_type": "stream",
     "text": [
      "Descriptor:  Both_Hands\n",
      "Accuracy:  0.993\n",
      "Descriptor:  F_Index\n",
      "Accuracy:  0.855\n",
      "Descriptor:  F_Middle\n",
      "Accuracy:  0.906\n",
      "Descriptor:  F_Pinky\n",
      "Accuracy:  0.87\n",
      "Descriptor:  F_Ring\n",
      "Accuracy:  0.92\n",
      "Descriptor:  F_Thumb\n",
      "Accuracy:  0.889\n",
      "Descriptor:  M_Back\n",
      "Accuracy:  0.911\n",
      "Descriptor:  M_Down\n",
      "Accuracy:  0.982\n",
      "Descriptor:  M_Front\n",
      "Accuracy:  0.936\n",
      "Descriptor:  M_In\n",
      "Accuracy:  0.849\n",
      "Descriptor:  M_Iterative\n",
      "Accuracy:  0.936\n",
      "Descriptor:  M_Out\n",
      "Accuracy:  0.887\n",
      "Descriptor:  M_Up\n",
      "Accuracy:  1.0\n",
      "Descriptor:  O_Back\n",
      "Accuracy:  0.958\n",
      "Descriptor:  O_Down\n",
      "Accuracy:  0.955\n",
      "Descriptor:  O_Front\n",
      "Accuracy:  0.892\n",
      "Descriptor:  O_In\n",
      "Accuracy:  0.951\n",
      "Descriptor:  O_Out\n",
      "Accuracy:  1.0\n",
      "Descriptor:  O_Up\n",
      "Accuracy:  1.0\n"
     ]
    }
   ],
   "source": [
    "from sklearn.metrics import accuracy_score, roc_auc_score, f1_score\n",
    "\n",
    "seen_descriptor_accuracies = {}\n",
    "seen_descriptor_f1 = {}\n",
    "\n",
    "for d in descriptors:\n",
    "    print(\"Descriptor: \",d)\n",
    "    accuracy = accuracy_score(df_train[d], df_test[d])\n",
    "    try:\n",
    "        f1 = roc_auc_score(df_train[d], df_test[d])\n",
    "    except: \n",
    "        f1 = 1\n",
    "    print(\"Accuracy: \", round(accuracy,3))\n",
    "    seen_descriptor_accuracies[d] = accuracy\n",
    "    seen_descriptor_f1[d] = f1"
   ]
  },
  {
   "cell_type": "code",
   "execution_count": 73,
   "metadata": {},
   "outputs": [
    {
     "name": "stdout",
     "output_type": "stream",
     "text": [
      "Descriptor:  Both_Hands\n",
      "Accuracy:  0.854\n",
      "Descriptor:  F_Index\n",
      "Accuracy:  0.594\n",
      "Descriptor:  F_Middle\n",
      "Accuracy:  0.655\n",
      "Descriptor:  F_Pinky\n",
      "Accuracy:  0.7\n",
      "Descriptor:  F_Ring\n",
      "Accuracy:  0.727\n",
      "Descriptor:  F_Thumb\n",
      "Accuracy:  0.357\n",
      "Descriptor:  M_Back\n",
      "Accuracy:  0.976\n",
      "Descriptor:  M_Down\n",
      "Accuracy:  0.826\n",
      "Descriptor:  M_Front\n",
      "Accuracy:  0.933\n",
      "Descriptor:  M_In\n",
      "Accuracy:  0.767\n",
      "Descriptor:  M_Iterative\n",
      "Accuracy:  0.853\n",
      "Descriptor:  M_Out\n",
      "Accuracy:  0.904\n",
      "Descriptor:  M_Up\n",
      "Accuracy:  1.0\n",
      "Descriptor:  O_Back\n",
      "Accuracy:  0.75\n",
      "Descriptor:  O_Down\n",
      "Accuracy:  0.708\n",
      "Descriptor:  O_Front\n",
      "Accuracy:  0.78\n",
      "Descriptor:  O_In\n",
      "Accuracy:  0.719\n",
      "Descriptor:  O_Out\n",
      "Accuracy:  0.82\n",
      "Descriptor:  O_Up\n",
      "Accuracy:  0.929\n"
     ]
    }
   ],
   "source": [
    "unseen_descriptor_accuracies = {}\n",
    "unseen_descriptor_f1 = {}\n",
    "\n",
    "for d in descriptors:\n",
    "    print(\"Descriptor: \",d)\n",
    "    accuracy = accuracy_score(df_train_unseen[d], df_test_unseen[d])\n",
    "    try:\n",
    "        f1 = roc_auc_score(df_train_unseen[d], df_test_unseen[d])\n",
    "    except:\n",
    "        f1 = 1\n",
    "    print(\"Accuracy: \", round(accuracy,3))\n",
    "    unseen_descriptor_accuracies[d] = accuracy\n",
    "    unseen_descriptor_f1[d] = f1"
   ]
  },
  {
   "cell_type": "code",
   "execution_count": 77,
   "metadata": {},
   "outputs": [
    {
     "data": {
      "image/png": "[encoded data removed]",
      "text/plain": [
       "<Figure size 432x288 with 1 Axes>"
      ]
     },
     "metadata": {
      "needs_background": "light"
     },
     "output_type": "display_data"
    }
   ],
   "source": [
    "import matplotlib.pyplot as plt\n",
    "\n",
    "plt.bar(list(seen_descriptor_accuracies.keys()), seen_descriptor_accuracies.values(), color='g')\n",
    "plt.xticks(rotation='vertical')\n",
    "plt.ylabel('Accuracy')\n",
    "plt.title('Descriptor Accuracies - Seen Gestures')\n",
    "plt.show()\n"
   ]
  },
  {
   "cell_type": "code",
   "execution_count": 83,
   "metadata": {},
   "outputs": [
    {
     "data": {
      "image/png": "[encoded data removed]",
      "text/plain": [
       "<Figure size 432x288 with 1 Axes>"
      ]
     },
     "metadata": {
      "needs_background": "light"
     },
     "output_type": "display_data"
    }
   ],
   "source": [
    "plt.bar(list(seen_descriptor_f1.keys()), seen_descriptor_f1.values(), color='g')\n",
    "plt.xticks(rotation='vertical')\n",
    "plt.ylabel('AUC - ROC Score')\n",
    "plt.title('Descriptor AUC ROC - Seen Gestures')\n",
    "plt.show()\n"
   ]
  },
  {
   "cell_type": "code",
   "execution_count": 84,
   "metadata": {},
   "outputs": [
    {
     "data": {
      "image/png": "[encoded data removed]",
      "text/plain": [
       "<Figure size 432x288 with 1 Axes>"
      ]
     },
     "metadata": {
      "needs_background": "light"
     },
     "output_type": "display_data"
    }
   ],
   "source": [
    "plt.bar(list(unseen_descriptor_accuracies.keys()), unseen_descriptor_accuracies.values(), color='b')\n",
    "plt.xticks(rotation='vertical')\n",
    "plt.ylabel('Accuracy')\n",
    "plt.title('Descriptor Accuracies - Unseen Gestures')\n",
    "plt.show()\n"
   ]
  },
  {
   "cell_type": "code",
   "execution_count": 78,
   "metadata": {},
   "outputs": [
    {
     "data": {
      "image/png": "[encoded data removed]",
      "text/plain": [
       "<Figure size 432x288 with 1 Axes>"
      ]
     },
     "metadata": {
      "needs_background": "light"
     },
     "output_type": "display_data"
    }
   ],
   "source": [
    "plt.bar(list(unseen_descriptor_f1.keys()), unseen_descriptor_f1.values(), color='b')\n",
    "plt.xticks(rotation='vertical')\n",
    "plt.ylabel('AUC - ROC Score')\n",
    "plt.title('Descriptor AUC ROC - Unseen Gestures')\n",
    "plt.show()\n"
   ]
  },
  {
   "cell_type": "code",
   "execution_count": 81,
   "metadata": {},
   "outputs": [
    {
     "data": {
      "text/plain": [
       "0.9311503801332669"
      ]
     },
     "execution_count": 81,
     "metadata": {},
     "output_type": "execute_result"
    }
   ],
   "source": [
    "import numpy as np\n",
    "np.average(list(seen_descriptor_accuracies.values()))"
   ]
  },
  {
   "cell_type": "code",
   "execution_count": 82,
   "metadata": {},
   "outputs": [
    {
     "data": {
      "text/plain": [
       "0.7816835904193473"
      ]
     },
     "execution_count": 82,
     "metadata": {},
     "output_type": "execute_result"
    }
   ],
   "source": [
    "np.average(list(unseen_descriptor_accuracies.values()))"
   ]
  }
 ],
 "metadata": {
  "kernelspec": {
   "display_name": "Python 3",
   "language": "python",
   "name": "python3"
  },
  "language_info": {
   "codemirror_mode": {
    "name": "ipython",
    "version": 3
   },
   "file_extension": ".py",
   "mimetype": "text/x-python",
   "name": "python",
   "nbconvert_exporter": "python",
   "pygments_lexer": "ipython3",
   "version": "3.6.9"
  }
 },
 "nbformat": 4,
 "nbformat_minor": 4
}
